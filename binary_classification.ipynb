{
 "cells": [
  {
   "cell_type": "markdown",
   "metadata": {},
   "source": [
    "### Classifying movie 🎥 reviews"
   ]
  },
  {
   "cell_type": "code",
   "execution_count": 1,
   "metadata": {},
   "outputs": [],
   "source": [
    "data_length=1000"
   ]
  },
  {
   "cell_type": "markdown",
   "metadata": {},
   "source": [
    "#### Loading the IMDB dataset\n",
    "\n",
    "The argument *num_words* means we’ll only keep the top *num_words* most frequently occurring words in the training data. Rare words will be discarded. This allows us to work with vector data of manageable size."
   ]
  },
  {
   "cell_type": "code",
   "execution_count": 2,
   "metadata": {},
   "outputs": [
    {
     "name": "stdout",
     "output_type": "stream",
     "text": [
      "Downloading data from https://storage.googleapis.com/tensorflow/tf-keras-datasets/imdb.npz\n",
      "17465344/17464789 [==============================] - 2s 0us/step\n"
     ]
    }
   ],
   "source": [
    "from tensorflow.keras.datasets import imdb\n",
    "\n",
    "(train_data, train_labels), (test_data, test_labels) = imdb.load_data(num_words=data_length)"
   ]
  },
  {
   "cell_type": "markdown",
   "metadata": {},
   "source": [
    "#### Preparing the data\n",
    "\n",
    "We will turn the lists into vectors of 0s and 1s. This would mean, for instance, turning the sequence [3, 5] into a 10,000-dimensional vector that would be all 0s except for indices 3 and 5, which would be 1s. Then we will use as the first layer in our network a Dense layer, capable of handling floating-point vector data."
   ]
  },
  {
   "cell_type": "code",
   "execution_count": 3,
   "metadata": {},
   "outputs": [],
   "source": [
    "import numpy as np\n",
    "\n",
    "def vectorize_sequences(sequences, dimension=data_length):\n",
    "    results = np.zeros((len(sequences), dimension))\n",
    "    for i, sequence in enumerate(sequences):\n",
    "        results[i, sequence] = 1.\n",
    "    return results\n",
    "\n",
    "x_train = vectorize_sequences(train_data)\n",
    "x_test = vectorize_sequences(test_data)\n",
    "\n",
    "y_train = np.asarray(train_labels).astype('float32')\n",
    "y_test = np.asarray(test_labels).astype('float32')"
   ]
  },
  {
   "cell_type": "markdown",
   "metadata": {},
   "source": [
    "#### Building the network"
   ]
  },
  {
   "cell_type": "markdown",
   "metadata": {},
   "source": [
    "The input data is vectors, and the labels are scalars (1s and 0s): this is the easiest setup we’ll ever encounter. A type of network that performs well on such a problem is a simple stack of fully connected (Dense) layers with relu activations.\n",
    "\n",
    "The argument being passed to each Dense layer (16) is the number of hidden units of the layer."
   ]
  },
  {
   "cell_type": "code",
   "execution_count": 4,
   "metadata": {},
   "outputs": [],
   "source": [
    "from tensorflow.keras import models\n",
    "from tensorflow.keras import layers\n",
    "\n",
    "model = models.Sequential()\n",
    "model.add(layers.Dense(16, activation='relu', input_shape=(data_length,)))\n",
    "model.add(layers.Dense(16, activation='relu'))"
   ]
  },
  {
   "cell_type": "markdown",
   "metadata": {},
   "source": [
    "Because we’re facing a binary classification problem and the output of our network is a probability (we end our network with a single-unit layer with a sigmoid activation), it’s best to use the *binary_crossentropy* loss."
   ]
  },
  {
   "cell_type": "code",
   "execution_count": 5,
   "metadata": {},
   "outputs": [],
   "source": [
    "model.add(layers.Dense(1, activation='sigmoid'))"
   ]
  },
  {
   "cell_type": "markdown",
   "metadata": {},
   "source": [
    "#### Setting aside a validation set\n",
    "\n",
    "In order to monitor during training the accuracy of the model on data it has never seen before, we’ll create a validation set by setting apart *data_length* samples from the original training data."
   ]
  },
  {
   "cell_type": "code",
   "execution_count": 6,
   "metadata": {},
   "outputs": [],
   "source": [
    "x_val = x_train[:data_length]\n",
    "partial_x_train = x_train[data_length:]\n",
    "y_val = y_train[:data_length]\n",
    "partial_y_train = y_train[data_length:]"
   ]
  },
  {
   "cell_type": "markdown",
   "metadata": {},
   "source": [
    "#### Compiling the model\n",
    "\n",
    "We need to choose a loss function and an optimizer. Crossentropy is usually the best choice when you’re dealing with models that output probabilities. Crossentropy is a quantity from the field of Information Theory that measures the distance between probability distributions or, in this case, between the ground-truth distribution and your predictions.\n",
    "\n",
    "We’ll also monitor accuracy during training."
   ]
  },
  {
   "cell_type": "code",
   "execution_count": 7,
   "metadata": {},
   "outputs": [],
   "source": [
    "model.compile(optimizer='rmsprop',\n",
    "              loss='binary_crossentropy',\n",
    "              metrics=['accuracy'])"
   ]
  },
  {
   "cell_type": "markdown",
   "metadata": {},
   "source": [
    "We’re passing the optimizer, loss function, and metrics as strings, which is possible because *rmsprop*, *binary_crossentropy*, and *accuracy* are packaged as part of Keras."
   ]
  },
  {
   "cell_type": "markdown",
   "metadata": {},
   "source": [
    "#### Training the model\n",
    "\n",
    "We’ll train the model for 20 epochs (20 iterations over all samples in the x_train and y_train tensors), in mini-batches of 512 samples. At the same time, you’ll monitor loss and accuracy on the *data_length* samples that we set apart. We do so by passing the validation data as the *validation_data* argument."
   ]
  },
  {
   "cell_type": "code",
   "execution_count": 8,
   "metadata": {},
   "outputs": [
    {
     "name": "stdout",
     "output_type": "stream",
     "text": [
      "Train on 24000 samples, validate on 1000 samples\n",
      "Epoch 1/20\n",
      "24000/24000 [==============================] - 1s 22us/step - loss: 0.5330 - acc: 0.7554 - val_loss: 0.4106 - val_acc: 0.8300\n",
      "Epoch 2/20\n",
      "24000/24000 [==============================] - 0s 8us/step - loss: 0.3775 - acc: 0.8467 - val_loss: 0.3476 - val_acc: 0.8490\n",
      "Epoch 3/20\n",
      "24000/24000 [==============================] - 0s 8us/step - loss: 0.3332 - acc: 0.8627 - val_loss: 0.3302 - val_acc: 0.8580\n",
      "Epoch 4/20\n",
      "24000/24000 [==============================] - 0s 8us/step - loss: 0.3162 - acc: 0.8705 - val_loss: 0.3204 - val_acc: 0.8630\n",
      "Epoch 5/20\n",
      "24000/24000 [==============================] - 0s 8us/step - loss: 0.3087 - acc: 0.8725 - val_loss: 0.3302 - val_acc: 0.8530\n",
      "Epoch 6/20\n",
      "24000/24000 [==============================] - 0s 9us/step - loss: 0.3045 - acc: 0.8715 - val_loss: 0.3154 - val_acc: 0.8650\n",
      "Epoch 7/20\n",
      "24000/24000 [==============================] - 0s 9us/step - loss: 0.3008 - acc: 0.8760 - val_loss: 0.3270 - val_acc: 0.8640\n",
      "Epoch 8/20\n",
      "24000/24000 [==============================] - 0s 8us/step - loss: 0.2960 - acc: 0.8784 - val_loss: 0.3238 - val_acc: 0.8530\n",
      "Epoch 9/20\n",
      "24000/24000 [==============================] - 0s 9us/step - loss: 0.2900 - acc: 0.8805 - val_loss: 0.3171 - val_acc: 0.8640\n",
      "Epoch 10/20\n",
      "24000/24000 [==============================] - 0s 8us/step - loss: 0.2874 - acc: 0.8805 - val_loss: 0.3257 - val_acc: 0.8710\n",
      "Epoch 11/20\n",
      "24000/24000 [==============================] - 0s 7us/step - loss: 0.2801 - acc: 0.8851 - val_loss: 0.3296 - val_acc: 0.8510\n",
      "Epoch 12/20\n",
      "24000/24000 [==============================] - 0s 8us/step - loss: 0.2752 - acc: 0.8871 - val_loss: 0.3218 - val_acc: 0.8670\n",
      "Epoch 13/20\n",
      "24000/24000 [==============================] - 0s 8us/step - loss: 0.2694 - acc: 0.8878 - val_loss: 0.3369 - val_acc: 0.8510\n",
      "Epoch 14/20\n",
      "24000/24000 [==============================] - 0s 8us/step - loss: 0.2612 - acc: 0.8920 - val_loss: 0.3540 - val_acc: 0.8480\n",
      "Epoch 15/20\n",
      "24000/24000 [==============================] - 0s 8us/step - loss: 0.2559 - acc: 0.8943 - val_loss: 0.3289 - val_acc: 0.8640\n",
      "Epoch 16/20\n",
      "24000/24000 [==============================] - 0s 8us/step - loss: 0.2504 - acc: 0.8969 - val_loss: 0.3328 - val_acc: 0.8560\n",
      "Epoch 17/20\n",
      "24000/24000 [==============================] - 1s 30us/step - loss: 0.2425 - acc: 0.9011 - val_loss: 0.3473 - val_acc: 0.8520\n",
      "Epoch 18/20\n",
      "24000/24000 [==============================] - 0s 9us/step - loss: 0.2357 - acc: 0.9028 - val_loss: 0.3450 - val_acc: 0.8550\n",
      "Epoch 19/20\n",
      "24000/24000 [==============================] - 0s 6us/step - loss: 0.2287 - acc: 0.9075 - val_loss: 0.3528 - val_acc: 0.8550\n",
      "Epoch 20/20\n",
      "24000/24000 [==============================] - 0s 8us/step - loss: 0.2245 - acc: 0.9100 - val_loss: 0.3509 - val_acc: 0.8580\n"
     ]
    }
   ],
   "source": [
    "history = model.fit(partial_x_train,\n",
    "                    partial_y_train,\n",
    "                    epochs=20,\n",
    "                    batch_size=512,\n",
    "                    validation_data=(x_val, y_val))"
   ]
  },
  {
   "cell_type": "markdown",
   "metadata": {},
   "source": [
    "#### Plotting the training and validation loss"
   ]
  },
  {
   "cell_type": "code",
   "execution_count": 10,
   "metadata": {},
   "outputs": [
    {
     "data": {
      "image/png": "[encoded data removed]",
      "text/plain": [
       "<Figure size 432x288 with 1 Axes>"
      ]
     },
     "metadata": {
      "needs_background": "light"
     },
     "output_type": "display_data"
    }
   ],
   "source": [
    "import matplotlib.pyplot as plt\n",
    "\n",
    "history_dict = history.history\n",
    "loss_values = history_dict['loss']\n",
    "val_loss_values = history_dict['val_loss']\n",
    "acc_values = history_dict['acc']\n",
    "\n",
    "epochs = range(1, len(acc_values) + 1)\n",
    "\n",
    "plt.plot(epochs, loss_values, 'bo', label='Training loss')\n",
    "plt.plot(epochs, val_loss_values, 'b', label='Validation loss')\n",
    "plt.title('Training and validation loss')\n",
    "plt.xlabel('Epochs')\n",
    "plt.ylabel('Loss')\n",
    "plt.legend()\n",
    "\n",
    "plt.show()"
   ]
  },
  {
   "cell_type": "markdown",
   "metadata": {},
   "source": [
    "####  Plotting the training and validation accuracy"
   ]
  },
  {
   "cell_type": "code",
   "execution_count": 11,
   "metadata": {
    "scrolled": true
   },
   "outputs": [
    {
     "data": {
      "image/png": "[encoded data removed]",
      "text/plain": [
       "<Figure size 432x288 with 1 Axes>"
      ]
     },
     "metadata": {
      "needs_background": "light"
     },
     "output_type": "display_data"
    }
   ],
   "source": [
    "plt.clf()\n",
    "acc_values = history_dict['acc']\n",
    "val_acc_values = history_dict['val_acc']\n",
    "\n",
    "plt.plot(epochs, acc_values, 'bo', label='Training acc')\n",
    "plt.plot(epochs, val_acc_values, 'b', label='Validation acc')\n",
    "plt.title('Training and validation accuracy')\n",
    "plt.xlabel('Epochs')\n",
    "plt.ylabel('Loss')\n",
    "plt.legend()\n",
    "\n",
    "plt.show()"
   ]
  },
  {
   "cell_type": "code",
   "execution_count": null,
   "metadata": {},
   "outputs": [],
   "source": []
  }
 ],
 "metadata": {
  "kernelspec": {
   "display_name": "Python 3",
   "language": "python",
   "name": "python3"
  },
  "language_info": {
   "codemirror_mode": {
    "name": "ipython",
    "version": 3
   },
   "file_extension": ".py",
   "mimetype": "text/x-python",
   "name": "python",
   "nbconvert_exporter": "python",
   "pygments_lexer": "ipython3",
   "version": "3.6.6"
  }
 },
 "nbformat": 4,
 "nbformat_minor": 2
}
