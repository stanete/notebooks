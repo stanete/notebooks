{
 "cells": [
  {
   "cell_type": "code",
   "execution_count": 14,
   "metadata": {},
   "outputs": [],
   "source": [
    "import tensorflow as tf\n",
    "import numpy as np\n",
    "\n",
    "class Autoencoder:\n",
    "    \n",
    "    def __init__(self, input_dim, hidden_dim, epoch=250, learning_rate=0.001):\n",
    "        self.epoch = epoch                                                 \n",
    "        self.learning_rate = learning_rate                                 \n",
    "\n",
    "        x = tf.placeholder(dtype=tf.float32, shape=[None, input_dim])      \n",
    "\n",
    "        with tf.name_scope('encode'):                                      \n",
    "            weights = tf.Variable(tf.random_normal([input_dim, hidden_dim], dtype=tf.float32), name='weights')\n",
    "            biases = tf.Variable(tf.zeros([hidden_dim]), name='biases')\n",
    "            encoded = tf.nn.tanh(tf.matmul(x, weights) + biases)\n",
    "        with tf.name_scope('decode'):                                      \n",
    "            weights = tf.Variable(tf.random_normal([hidden_dim, input_dim], dtype=tf.float32), name='weights')\n",
    "            biases = tf.Variable(tf.zeros([input_dim]), name='biases')\n",
    "            decoded = tf.matmul(encoded, weights) + biases\n",
    "\n",
    "        self.x = x                                                         \n",
    "        self.encoded = encoded                                             \n",
    "        self.decoded = decoded                                             \n",
    "\n",
    "        self.loss = tf.sqrt(tf.reduce_mean(tf.square(tf.subtract(self.x, self.decoded))))                                                      \n",
    "        self.train_op = tf.train.RMSPropOptimizer(self.learning_rate).minimize(self.loss)     \n",
    "        self.saver = tf.train.Saver()\n",
    "    \n",
    "    def get_batch(self, X, size):\n",
    "        a = np.random.choice(len(X), size, replace=False)\n",
    "        return X[a]\n",
    "    \n",
    "    def train(self, data, batch_size=10):\n",
    "        with tf.Session() as sess:\n",
    "            sess.run(tf.global_variables_initializer())\n",
    "            for i in range(self.epoch):\n",
    "                for j in range(500):                                  \n",
    "                    batch_data = self.get_batch(data, batch_size)     \n",
    "                    l, _ = sess.run([self.loss, self.train_op], feed_dict={self.x: batch_data})\n",
    "                if i % 10 == 0:\n",
    "                    print('epoch {0}: loss = {1}'.format(i, l))\n",
    "                    self.saver.save(sess, './model.ckpt')\n",
    "            self.saver.save(sess, './model.ckpt')\n",
    "                \n",
    "    def test(self, data):\n",
    "        with tf.Session() as sess:\n",
    "            self.saver.restore(sess, './model.ckpt')                       \n",
    "            hidden, reconstructed = sess.run([self.encoded, self.decoded], feed_dict={self.x: data})                                          \n",
    "            print('input', data)\n",
    "            print('compressed', hidden)\n",
    "            print('reconstructed', reconstructed)\n",
    "            return reconstructed"
   ]
  },
  {
   "cell_type": "code",
   "execution_count": 15,
   "metadata": {},
   "outputs": [
    {
     "name": "stdout",
     "output_type": "stream",
     "text": [
      "epoch 0: loss = 3.3524835109710693\n",
      "epoch 10: loss = 0.4601932466030121\n",
      "epoch 20: loss = 0.31722983717918396\n",
      "epoch 30: loss = 0.3636620044708252\n",
      "epoch 40: loss = 0.25878340005874634\n",
      "epoch 50: loss = 0.2544558644294739\n",
      "epoch 60: loss = 0.3079870641231537\n",
      "epoch 70: loss = 0.2487819641828537\n",
      "epoch 80: loss = 0.20135048031806946\n",
      "epoch 90: loss = 0.23408304154872894\n",
      "epoch 100: loss = 0.26166799664497375\n",
      "epoch 110: loss = 0.29344698786735535\n",
      "epoch 120: loss = 0.3088926374912262\n",
      "epoch 130: loss = 0.21854114532470703\n",
      "epoch 140: loss = 0.3401826024055481\n",
      "epoch 150: loss = 0.26538515090942383\n",
      "epoch 160: loss = 0.3017844557762146\n",
      "epoch 170: loss = 0.434401273727417\n",
      "epoch 180: loss = 0.2707311511039734\n",
      "epoch 190: loss = 0.38534414768218994\n",
      "epoch 200: loss = 0.2851945459842682\n",
      "epoch 210: loss = 0.2501869797706604\n",
      "epoch 220: loss = 0.3079162538051605\n",
      "epoch 230: loss = 0.21453450620174408\n",
      "epoch 240: loss = 0.3212789297103882\n",
      "INFO:tensorflow:Restoring parameters from ./model.ckpt\n",
      "input [[8, 4, 6, 2]]\n",
      "compressed [[0.37772617]]\n",
      "reconstructed [[6.8943553 2.7975569 6.2872977 2.2577817]]\n"
     ]
    },
    {
     "data": {
      "text/plain": [
       "array([[6.8943553, 2.7975569, 6.2872977, 2.2577817]], dtype=float32)"
      ]
     },
     "execution_count": 15,
     "metadata": {},
     "output_type": "execute_result"
    }
   ],
   "source": [
    "from sklearn import datasets\n",
    "\n",
    "hidden_dim = 1\n",
    "data = datasets.load_iris().data\n",
    "input_dim = len(data[0])\n",
    "ae = Autoencoder(input_dim, hidden_dim)\n",
    "ae.train(data)\n",
    "ae.test([[8, 4, 6, 2]])"
   ]
  },
  {
   "cell_type": "code",
   "execution_count": null,
   "metadata": {},
   "outputs": [],
   "source": []
  }
 ],
 "metadata": {
  "kernelspec": {
   "display_name": "Python 3",
   "language": "python",
   "name": "python3"
  },
  "language_info": {
   "codemirror_mode": {
    "name": "ipython",
    "version": 3
   },
   "file_extension": ".py",
   "mimetype": "text/x-python",
   "name": "python",
   "nbconvert_exporter": "python",
   "pygments_lexer": "ipython3",
   "version": "3.6.6"
  }
 },
 "nbformat": 4,
 "nbformat_minor": 2
}
