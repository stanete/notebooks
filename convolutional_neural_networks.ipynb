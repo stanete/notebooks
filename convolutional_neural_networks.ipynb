{
 "cells": [
  {
   "cell_type": "markdown",
   "metadata": {},
   "source": [
    "### Classifying cats 🐈 vs dogs 🐕 pictures\n",
    "\n",
    "Before starting to play with this notebook [download the necessary dataset](https://drive.google.com/file/d/1WaTomHWXNGmtaBz5U-jZyL01yHImujhj/view?usp=sharing) and uncompress it in the same directory as this notebook. The dataset contains three subsets: a training set with 1,000 samples of each class, a validation set with 500 samples of each class, and a test set with 500 samples of each class.\n",
    "\n",
    "Convnets used for image classification comprise two parts: they start with a series of pooling and convolution layers, and they end with a densely connected classifier. The first part is called the convolutional base of the model."
   ]
  },
  {
   "cell_type": "markdown",
   "metadata": {},
   "source": [
    "#### Instantiating a small convnet\n",
    "\n",
    "Because we’re attacking a binary-classification problem, we’ll end the network with a single unit (a Dense layer of size 1) and a sigmoid activation. This unit will encode the probability that the network is looking at one class or the other."
   ]
  },
  {
   "cell_type": "code",
   "execution_count": 1,
   "metadata": {},
   "outputs": [
    {
     "name": "stderr",
     "output_type": "stream",
     "text": [
      "Using TensorFlow backend.\n"
     ]
    }
   ],
   "source": [
    "from keras import layers\n",
    "from keras import models\n",
    "\n",
    "model = models.Sequential()\n",
    "model.add(layers.Conv2D(32, (3, 3), activation='relu',\n",
    "                        input_shape=(150, 150, 3)))\n",
    "model.add(layers.MaxPooling2D((2, 2)))\n",
    "model.add(layers.Conv2D(64, (3, 3), activation='relu'))\n",
    "model.add(layers.MaxPooling2D((2, 2)))\n",
    "model.add(layers.Conv2D(128, (3, 3), activation='relu'))\n",
    "model.add(layers.MaxPooling2D((2, 2)))\n",
    "model.add(layers.Conv2D(128, (3, 3), activation='relu'))\n",
    "model.add(layers.MaxPooling2D((2, 2)))\n",
    "model.add(layers.Flatten())\n",
    "model.add(layers.Dense(512, activation='relu'))\n",
    "model.add(layers.Dense(1, activation='sigmoid'))"
   ]
  },
  {
   "cell_type": "markdown",
   "metadata": {},
   "source": [
    "Let’s look at how the dimensions of the feature maps change with every successive layer:"
   ]
  },
  {
   "cell_type": "code",
   "execution_count": 2,
   "metadata": {},
   "outputs": [
    {
     "name": "stdout",
     "output_type": "stream",
     "text": [
      "_________________________________________________________________\n",
      "Layer (type)                 Output Shape              Param #   \n",
      "=================================================================\n",
      "conv2d_1 (Conv2D)            (None, 148, 148, 32)      896       \n",
      "_________________________________________________________________\n",
      "max_pooling2d_1 (MaxPooling2 (None, 74, 74, 32)        0         \n",
      "_________________________________________________________________\n",
      "conv2d_2 (Conv2D)            (None, 72, 72, 64)        18496     \n",
      "_________________________________________________________________\n",
      "max_pooling2d_2 (MaxPooling2 (None, 36, 36, 64)        0         \n",
      "_________________________________________________________________\n",
      "conv2d_3 (Conv2D)            (None, 34, 34, 128)       73856     \n",
      "_________________________________________________________________\n",
      "max_pooling2d_3 (MaxPooling2 (None, 17, 17, 128)       0         \n",
      "_________________________________________________________________\n",
      "conv2d_4 (Conv2D)            (None, 15, 15, 128)       147584    \n",
      "_________________________________________________________________\n",
      "max_pooling2d_4 (MaxPooling2 (None, 7, 7, 128)         0         \n",
      "_________________________________________________________________\n",
      "flatten_1 (Flatten)          (None, 6272)              0         \n",
      "_________________________________________________________________\n",
      "dense_1 (Dense)              (None, 512)               3211776   \n",
      "_________________________________________________________________\n",
      "dense_2 (Dense)              (None, 1)                 513       \n",
      "=================================================================\n",
      "Total params: 3,453,121\n",
      "Trainable params: 3,453,121\n",
      "Non-trainable params: 0\n",
      "_________________________________________________________________\n"
     ]
    }
   ],
   "source": [
    "model.summary()"
   ]
  },
  {
   "cell_type": "markdown",
   "metadata": {},
   "source": [
    "#### Configuring the model for training\n",
    "\n",
    "Because we ended the network with a single sigmoid unit, we’ll use binary crossentropy as the loss."
   ]
  },
  {
   "cell_type": "code",
   "execution_count": 3,
   "metadata": {},
   "outputs": [],
   "source": [
    "from keras import optimizers\n",
    "\n",
    "model.compile(loss='binary_crossentropy',\n",
    "              optimizer=optimizers.RMSprop(lr=1e-4),\n",
    "              metrics=['acc'])"
   ]
  },
  {
   "cell_type": "markdown",
   "metadata": {},
   "source": [
    "#### Data preprocessing\n",
    "\n",
    "Data should be formatted into appropriately preprocessed floating-point tensors before being fed into the network. Currently, the data sits on a drive as JPEG files, so the steps for getting it into the network are roughly as follows:\n",
    "\n",
    "* Read the picture files.\n",
    "* Decode the JPEG content to RGB grids of pixels.\n",
    "* Convert these into floating-point tensors.\n",
    "* Rescale the pixel values (between 0 and 255) to the [0, 1] interval (as you know, neural networks prefer to deal with small input values)."
   ]
  },
  {
   "cell_type": "markdown",
   "metadata": {},
   "source": [
    "#### Using ImageDataGenerator to read images from directories"
   ]
  },
  {
   "cell_type": "code",
   "execution_count": 4,
   "metadata": {},
   "outputs": [],
   "source": [
    "import os\n",
    "\n",
    "base_dir = '/src/cats_and_dogs'\n",
    "\n",
    "train_dir = os.path.join(base_dir, 'train')\n",
    "validation_dir = os.path.join(base_dir, 'validation')\n",
    "test_dir = os.path.join(base_dir, 'test')"
   ]
  },
  {
   "cell_type": "markdown",
   "metadata": {},
   "source": [
    "Keras has a module with image-processing helper tools, located at keras.preprocessing.image to take care of these steps automatically:"
   ]
  },
  {
   "cell_type": "code",
   "execution_count": 5,
   "metadata": {},
   "outputs": [
    {
     "name": "stdout",
     "output_type": "stream",
     "text": [
      "Found 2000 images belonging to 2 classes.\n",
      "Found 1000 images belonging to 2 classes.\n"
     ]
    }
   ],
   "source": [
    "from keras.preprocessing.image import ImageDataGenerator\n",
    "\n",
    "train_datagen = ImageDataGenerator(rescale=1./255)\n",
    "test_datagen = ImageDataGenerator(rescale=1./255)\n",
    "\n",
    "train_generator = train_datagen.flow_from_directory(\n",
    "        train_dir,\n",
    "        target_size=(150, 150),\n",
    "        batch_size=20,\n",
    "        class_mode='binary')\n",
    "\n",
    "validation_generator = test_datagen.flow_from_directory(\n",
    "        validation_dir,\n",
    "        target_size=(150, 150),\n",
    "        batch_size=20,\n",
    "        class_mode='binary')"
   ]
  },
  {
   "cell_type": "markdown",
   "metadata": {},
   "source": [
    "Let’s look at the output of one of these generators:"
   ]
  },
  {
   "cell_type": "code",
   "execution_count": 6,
   "metadata": {},
   "outputs": [
    {
     "name": "stdout",
     "output_type": "stream",
     "text": [
      "data batch shape: (20, 150, 150, 3)\n",
      "labels batch shape: (20,)\n"
     ]
    }
   ],
   "source": [
    "for data_batch, labels_batch in train_generator:\n",
    "    print('data batch shape:', data_batch.shape)\n",
    "    print('labels batch shape:', labels_batch.shape)\n",
    "    break"
   ]
  },
  {
   "cell_type": "markdown",
   "metadata": {},
   "source": [
    "####  Fitting the model using a batch generator\n",
    "\n",
    "*fit_generator* method, the equivalent of fit for data generators, expects as its first argument a Python generator that will yield batches of inputs and targets indefinitely. After having drawn *steps_per_epoch* batches from the generator the fitting process will go to the next epoch. In this case, batches are 20 samples, so it will take 100 batches until we see our target of 2,000 samples:"
   ]
  },
  {
   "cell_type": "code",
   "execution_count": 7,
   "metadata": {},
   "outputs": [
    {
     "name": "stdout",
     "output_type": "stream",
     "text": [
      "Epoch 1/30\n",
      "100/100 [==============================] - 73s 729ms/step - loss: 0.6820 - acc: 0.5540 - val_loss: 0.6489 - val_acc: 0.6300\n",
      "Epoch 2/30\n",
      "100/100 [==============================] - 71s 707ms/step - loss: 0.6354 - acc: 0.6420 - val_loss: 0.6417 - val_acc: 0.6360\n",
      "Epoch 3/30\n",
      "100/100 [==============================] - 75s 753ms/step - loss: 0.5879 - acc: 0.6870 - val_loss: 0.6207 - val_acc: 0.6240\n",
      "Epoch 4/30\n",
      "100/100 [==============================] - 70s 699ms/step - loss: 0.5577 - acc: 0.7170 - val_loss: 0.5831 - val_acc: 0.6910\n",
      "Epoch 5/30\n",
      "100/100 [==============================] - 71s 711ms/step - loss: 0.5252 - acc: 0.7355 - val_loss: 0.6117 - val_acc: 0.6740\n",
      "Epoch 6/30\n",
      "100/100 [==============================] - 72s 716ms/step - loss: 0.5020 - acc: 0.7555 - val_loss: 0.5663 - val_acc: 0.6950\n",
      "Epoch 7/30\n",
      "100/100 [==============================] - 67s 674ms/step - loss: 0.4761 - acc: 0.7680 - val_loss: 0.5463 - val_acc: 0.7150\n",
      "Epoch 8/30\n",
      "100/100 [==============================] - 67s 674ms/step - loss: 0.4469 - acc: 0.7810 - val_loss: 0.5550 - val_acc: 0.7050\n",
      "Epoch 9/30\n",
      "100/100 [==============================] - 72s 718ms/step - loss: 0.4277 - acc: 0.7935 - val_loss: 0.5307 - val_acc: 0.7290\n",
      "Epoch 10/30\n",
      "100/100 [==============================] - 72s 718ms/step - loss: 0.3964 - acc: 0.8215 - val_loss: 0.5320 - val_acc: 0.7330\n",
      "Epoch 11/30\n",
      "100/100 [==============================] - 68s 680ms/step - loss: 0.3743 - acc: 0.8365 - val_loss: 0.5238 - val_acc: 0.7530\n",
      "Epoch 12/30\n",
      "100/100 [==============================] - 68s 679ms/step - loss: 0.3532 - acc: 0.8465 - val_loss: 0.5539 - val_acc: 0.7370\n",
      "Epoch 13/30\n",
      "100/100 [==============================] - 68s 678ms/step - loss: 0.3355 - acc: 0.8535 - val_loss: 0.5667 - val_acc: 0.7240\n",
      "Epoch 14/30\n",
      "100/100 [==============================] - 68s 679ms/step - loss: 0.3100 - acc: 0.8720 - val_loss: 0.5193 - val_acc: 0.7450\n",
      "Epoch 15/30\n",
      "100/100 [==============================] - 68s 679ms/step - loss: 0.2929 - acc: 0.8770 - val_loss: 0.5435 - val_acc: 0.7510\n",
      "Epoch 16/30\n",
      "100/100 [==============================] - 68s 679ms/step - loss: 0.2680 - acc: 0.8895 - val_loss: 0.5445 - val_acc: 0.7550\n",
      "Epoch 17/30\n",
      "100/100 [==============================] - 68s 680ms/step - loss: 0.2410 - acc: 0.9065 - val_loss: 0.5662 - val_acc: 0.7510\n",
      "Epoch 18/30\n",
      "100/100 [==============================] - 68s 681ms/step - loss: 0.2291 - acc: 0.9100 - val_loss: 0.6383 - val_acc: 0.7270\n",
      "Epoch 19/30\n",
      "100/100 [==============================] - 68s 680ms/step - loss: 0.1972 - acc: 0.9285 - val_loss: 0.6590 - val_acc: 0.7420\n",
      "Epoch 20/30\n",
      "100/100 [==============================] - 69s 687ms/step - loss: 0.1898 - acc: 0.9320 - val_loss: 0.6270 - val_acc: 0.7440\n",
      "Epoch 21/30\n",
      "100/100 [==============================] - 68s 679ms/step - loss: 0.1725 - acc: 0.9355 - val_loss: 0.7736 - val_acc: 0.7270\n",
      "Epoch 22/30\n",
      "100/100 [==============================] - 69s 693ms/step - loss: 0.1474 - acc: 0.9490 - val_loss: 0.6528 - val_acc: 0.7410\n",
      "Epoch 23/30\n",
      "100/100 [==============================] - 68s 678ms/step - loss: 0.1377 - acc: 0.9525 - val_loss: 0.6657 - val_acc: 0.7460\n",
      "Epoch 24/30\n",
      "100/100 [==============================] - 68s 683ms/step - loss: 0.1187 - acc: 0.9595 - val_loss: 0.6534 - val_acc: 0.7550\n",
      "Epoch 25/30\n",
      "100/100 [==============================] - 69s 688ms/step - loss: 0.0980 - acc: 0.9710 - val_loss: 0.7315 - val_acc: 0.7520\n",
      "Epoch 26/30\n",
      "100/100 [==============================] - 72s 715ms/step - loss: 0.0925 - acc: 0.9700 - val_loss: 0.7339 - val_acc: 0.7450\n",
      "Epoch 27/30\n",
      "100/100 [==============================] - 70s 701ms/step - loss: 0.0728 - acc: 0.9800 - val_loss: 0.7733 - val_acc: 0.7510\n",
      "Epoch 28/30\n",
      "100/100 [==============================] - 74s 737ms/step - loss: 0.0700 - acc: 0.9825 - val_loss: 0.8384 - val_acc: 0.7310\n",
      "Epoch 29/30\n",
      "100/100 [==============================] - 74s 744ms/step - loss: 0.0617 - acc: 0.9835 - val_loss: 0.8357 - val_acc: 0.7360\n",
      "Epoch 30/30\n",
      "100/100 [==============================] - 72s 724ms/step - loss: 0.0499 - acc: 0.9885 - val_loss: 0.8499 - val_acc: 0.7470\n"
     ]
    }
   ],
   "source": [
    "history = model.fit_generator(\n",
    "      train_generator,\n",
    "      steps_per_epoch=100,\n",
    "      epochs=30,\n",
    "      validation_data=validation_generator,\n",
    "      validation_steps=50)"
   ]
  },
  {
   "cell_type": "markdown",
   "metadata": {},
   "source": [
    "It’s good practice to always save our model after training:"
   ]
  },
  {
   "cell_type": "code",
   "execution_count": 8,
   "metadata": {},
   "outputs": [],
   "source": [
    "model.save('cats_and_dogs_small_1.h5')"
   ]
  },
  {
   "cell_type": "markdown",
   "metadata": {},
   "source": [
    "#### Displaying curves of loss and accuracy during training"
   ]
  },
  {
   "cell_type": "code",
   "execution_count": 10,
   "metadata": {},
   "outputs": [
    {
     "data": {
      "image/png": "[encoded data removed]",
      "text/plain": [
       "<Figure size 432x288 with 1 Axes>"
      ]
     },
     "metadata": {
      "needs_background": "light"
     },
     "output_type": "display_data"
    },
    {
     "data": {
      "image/png": "[encoded data removed]",
      "text/plain": [
       "<Figure size 432x288 with 1 Axes>"
      ]
     },
     "metadata": {
      "needs_background": "light"
     },
     "output_type": "display_data"
    }
   ],
   "source": [
    "import matplotlib.pyplot as plt\n",
    "\n",
    "acc = history.history['acc']\n",
    "val_acc = history.history['val_acc']\n",
    "loss = history.history['loss']\n",
    "val_loss = history.history['val_loss']\n",
    "\n",
    "epochs = range(1, len(acc) + 1)\n",
    "\n",
    "plt.plot(epochs, acc, 'bo', label='Training acc')\n",
    "plt.plot(epochs, val_acc, 'b', label='Validation acc')\n",
    "plt.title('Training and validation accuracy')\n",
    "plt.legend()\n",
    "\n",
    "plt.figure()\n",
    "\n",
    "plt.plot(epochs, loss, 'bo', label='Training loss')\n",
    "plt.plot(epochs, val_loss, 'b', label='Validation loss')\n",
    "plt.title('Training and validation loss')\n",
    "plt.legend()\n",
    "\n",
    "plt.show()"
   ]
  },
  {
   "cell_type": "markdown",
   "metadata": {},
   "source": [
    "These plots are characteristic of overfitting. The training accuracy increases linearly over time, until it reaches nearly 100%, whereas the validation accuracy stalls at 70–72%. The validation loss reaches its minimum after only five epochs and then stalls, whereas the training loss keeps decreasing linearly until it reaches nearly 0.\n",
    "\n",
    "Because we have relatively few training samples (2,000), overfitting is our number-one concern."
   ]
  },
  {
   "cell_type": "markdown",
   "metadata": {},
   "source": [
    "#### Using data augmentation\n",
    "\n",
    "Data augmentation takes the approach of generating more training data from existing training samples, by augmenting the samples via a number of random transformations that yield believable-looking images. The goal is that at training time, the model will never see the exact same picture twice. This helps expose the model to more aspects of the data and generalize better."
   ]
  },
  {
   "cell_type": "markdown",
   "metadata": {},
   "source": [
    "#### Setting up a data augmentation configuration via ImageDataGenerator"
   ]
  },
  {
   "cell_type": "code",
   "execution_count": 11,
   "metadata": {},
   "outputs": [],
   "source": [
    "datagen = ImageDataGenerator(\n",
    "      rotation_range=40,\n",
    "      width_shift_range=0.2,\n",
    "      height_shift_range=0.2,\n",
    "      shear_range=0.2,\n",
    "      zoom_range=0.2,\n",
    "      horizontal_flip=True,\n",
    "      fill_mode='nearest')"
   ]
  },
  {
   "cell_type": "markdown",
   "metadata": {},
   "source": [
    "These are just a few of the options available:\n",
    "\n",
    "* **rotation_range** is a value in degrees (0–180), a range within which to randomly rotate pictures.\n",
    "* **width_shift** and **height_shift** are ranges within which to randomly translate pictures vertically or horizontally.\n",
    "* **shear_range** is for randomly applying shearing transformations.\n",
    "* **zoom_range** is for randomly zooming inside pictures.\n",
    "* **horizontal_flip** is for randomly flipping half the images horizontally—relevant when there are no assumptions of horizontal asymmetry.\n",
    "* **fill_mode** is the strategy used for filling in newly created pixels, which can appear after a rotation or a width/height shift."
   ]
  },
  {
   "cell_type": "markdown",
   "metadata": {},
   "source": [
    "#### Defining a new convnet that includes dropout"
   ]
  },
  {
   "cell_type": "code",
   "execution_count": 12,
   "metadata": {},
   "outputs": [],
   "source": [
    "model = models.Sequential()\n",
    "model.add(layers.Conv2D(32, (3, 3), activation='relu',\n",
    "                        input_shape=(150, 150, 3)))\n",
    "model.add(layers.MaxPooling2D((2, 2)))\n",
    "model.add(layers.Conv2D(64, (3, 3), activation='relu'))\n",
    "model.add(layers.MaxPooling2D((2, 2)))\n",
    "model.add(layers.Conv2D(128, (3, 3), activation='relu'))\n",
    "model.add(layers.MaxPooling2D((2, 2)))\n",
    "model.add(layers.Conv2D(128, (3, 3), activation='relu'))\n",
    "model.add(layers.MaxPooling2D((2, 2)))\n",
    "model.add(layers.Flatten())\n",
    "# Dropout layer right before the densely connected classifier.\n",
    "model.add(layers.Dropout(0.5))\n",
    "model.add(layers.Dense(512, activation='relu'))\n",
    "model.add(layers.Dense(1, activation='sigmoid'))\n",
    "\n",
    "model.compile(loss='binary_crossentropy',\n",
    "              optimizer=optimizers.RMSprop(lr=1e-4),\n",
    "              metrics=['acc'])"
   ]
  },
  {
   "cell_type": "markdown",
   "metadata": {},
   "source": [
    "#### Training the convnet using data-augmentation generators"
   ]
  },
  {
   "cell_type": "code",
   "execution_count": 13,
   "metadata": {},
   "outputs": [
    {
     "name": "stdout",
     "output_type": "stream",
     "text": [
      "Found 2000 images belonging to 2 classes.\n",
      "Found 1000 images belonging to 2 classes.\n",
      "Epoch 1/100\n",
      "100/100 [==============================] - 122s 1s/step - loss: 0.6895 - acc: 0.5309 - val_loss: 0.6933 - val_acc: 0.5165\n",
      "Epoch 2/100\n",
      "100/100 [==============================] - 120s 1s/step - loss: 0.6781 - acc: 0.5666 - val_loss: 0.6697 - val_acc: 0.5747\n",
      "Epoch 3/100\n",
      "100/100 [==============================] - 112s 1s/step - loss: 0.6688 - acc: 0.5991 - val_loss: 0.6439 - val_acc: 0.6244\n",
      "Epoch 4/100\n",
      "100/100 [==============================] - 108s 1s/step - loss: 0.6590 - acc: 0.6003 - val_loss: 0.6555 - val_acc: 0.5870\n",
      "Epoch 5/100\n",
      "100/100 [==============================] - 108s 1s/step - loss: 0.6436 - acc: 0.6303 - val_loss: 0.6031 - val_acc: 0.6891\n",
      "Epoch 6/100\n",
      "100/100 [==============================] - 107s 1s/step - loss: 0.6194 - acc: 0.6540 - val_loss: 0.6908 - val_acc: 0.5883\n",
      "Epoch 7/100\n",
      "100/100 [==============================] - 108s 1s/step - loss: 0.6096 - acc: 0.6681 - val_loss: 0.5800 - val_acc: 0.6923\n",
      "Epoch 8/100\n",
      "100/100 [==============================] - 108s 1s/step - loss: 0.6079 - acc: 0.6734 - val_loss: 0.5582 - val_acc: 0.7043\n",
      "Epoch 9/100\n",
      "100/100 [==============================] - 108s 1s/step - loss: 0.5988 - acc: 0.6778 - val_loss: 0.6795 - val_acc: 0.5921\n",
      "Epoch 10/100\n",
      "100/100 [==============================] - 108s 1s/step - loss: 0.5831 - acc: 0.6856 - val_loss: 0.6046 - val_acc: 0.6586\n",
      "Epoch 11/100\n",
      "100/100 [==============================] - 108s 1s/step - loss: 0.5771 - acc: 0.6869 - val_loss: 0.5624 - val_acc: 0.7101\n",
      "Epoch 12/100\n",
      "100/100 [==============================] - 108s 1s/step - loss: 0.5775 - acc: 0.6925 - val_loss: 0.5582 - val_acc: 0.7088\n",
      "Epoch 13/100\n",
      "100/100 [==============================] - 108s 1s/step - loss: 0.5596 - acc: 0.7106 - val_loss: 0.5102 - val_acc: 0.7416\n",
      "Epoch 14/100\n",
      "100/100 [==============================] - 108s 1s/step - loss: 0.5665 - acc: 0.7009 - val_loss: 0.5365 - val_acc: 0.7202\n",
      "Epoch 15/100\n",
      "100/100 [==============================] - 108s 1s/step - loss: 0.5648 - acc: 0.6978 - val_loss: 0.5073 - val_acc: 0.7410\n",
      "Epoch 16/100\n",
      "100/100 [==============================] - 107s 1s/step - loss: 0.5635 - acc: 0.7091 - val_loss: 0.5213 - val_acc: 0.7378\n",
      "Epoch 17/100\n",
      "100/100 [==============================] - 108s 1s/step - loss: 0.5484 - acc: 0.7159 - val_loss: 0.5051 - val_acc: 0.7424\n",
      "Epoch 18/100\n",
      "100/100 [==============================] - 107s 1s/step - loss: 0.5443 - acc: 0.7172 - val_loss: 0.5051 - val_acc: 0.7300\n",
      "Epoch 19/100\n",
      "100/100 [==============================] - 117s 1s/step - loss: 0.5319 - acc: 0.7266 - val_loss: 0.5442 - val_acc: 0.7316\n",
      "Epoch 20/100\n",
      "100/100 [==============================] - 113s 1s/step - loss: 0.5455 - acc: 0.7206 - val_loss: 0.5225 - val_acc: 0.7358\n",
      "Epoch 21/100\n",
      "100/100 [==============================] - 113s 1s/step - loss: 0.5198 - acc: 0.7422 - val_loss: 0.4812 - val_acc: 0.7652\n",
      "Epoch 22/100\n",
      "100/100 [==============================] - 115s 1s/step - loss: 0.5263 - acc: 0.7363 - val_loss: 0.5092 - val_acc: 0.7436\n",
      "Epoch 23/100\n",
      "100/100 [==============================] - 112s 1s/step - loss: 0.5328 - acc: 0.7291 - val_loss: 0.5304 - val_acc: 0.7195\n",
      "Epoch 24/100\n",
      "100/100 [==============================] - 120s 1s/step - loss: 0.5120 - acc: 0.7353 - val_loss: 0.5011 - val_acc: 0.7552\n",
      "Epoch 25/100\n",
      "100/100 [==============================] - 115s 1s/step - loss: 0.5197 - acc: 0.7334 - val_loss: 0.4548 - val_acc: 0.7784\n",
      "Epoch 26/100\n",
      "100/100 [==============================] - 111s 1s/step - loss: 0.5081 - acc: 0.7484 - val_loss: 0.4983 - val_acc: 0.7405\n",
      "Epoch 27/100\n",
      "100/100 [==============================] - 114s 1s/step - loss: 0.5139 - acc: 0.7416 - val_loss: 0.4914 - val_acc: 0.7668\n",
      "Epoch 28/100\n",
      "100/100 [==============================] - 117s 1s/step - loss: 0.4985 - acc: 0.7584 - val_loss: 0.4639 - val_acc: 0.7722\n",
      "Epoch 29/100\n",
      "100/100 [==============================] - 115s 1s/step - loss: 0.5031 - acc: 0.7500 - val_loss: 0.5248 - val_acc: 0.7365\n",
      "Epoch 30/100\n",
      "100/100 [==============================] - 113s 1s/step - loss: 0.5079 - acc: 0.7450 - val_loss: 0.4447 - val_acc: 0.7811\n",
      "Epoch 31/100\n",
      "100/100 [==============================] - 118s 1s/step - loss: 0.5041 - acc: 0.7544 - val_loss: 0.4600 - val_acc: 0.7822\n",
      "Epoch 32/100\n",
      "100/100 [==============================] - 114s 1s/step - loss: 0.4870 - acc: 0.7594 - val_loss: 0.4787 - val_acc: 0.7597\n",
      "Epoch 33/100\n",
      "100/100 [==============================] - 114s 1s/step - loss: 0.4896 - acc: 0.7569 - val_loss: 0.4753 - val_acc: 0.7582\n",
      "Epoch 34/100\n",
      "100/100 [==============================] - 115s 1s/step - loss: 0.4909 - acc: 0.7634 - val_loss: 0.4832 - val_acc: 0.7661\n",
      "Epoch 35/100\n",
      "100/100 [==============================] - 117s 1s/step - loss: 0.4788 - acc: 0.7672 - val_loss: 0.4693 - val_acc: 0.7716\n",
      "Epoch 36/100\n",
      "100/100 [==============================] - 117s 1s/step - loss: 0.4646 - acc: 0.7769 - val_loss: 0.6354 - val_acc: 0.7004\n",
      "Epoch 37/100\n",
      "100/100 [==============================] - 119s 1s/step - loss: 0.4867 - acc: 0.7694 - val_loss: 0.4595 - val_acc: 0.7989\n",
      "Epoch 38/100\n",
      "100/100 [==============================] - 119s 1s/step - loss: 0.4790 - acc: 0.7647 - val_loss: 0.4660 - val_acc: 0.7661\n",
      "Epoch 39/100\n",
      "100/100 [==============================] - 122s 1s/step - loss: 0.4831 - acc: 0.7600 - val_loss: 0.4504 - val_acc: 0.8020\n",
      "Epoch 40/100\n",
      "100/100 [==============================] - 117s 1s/step - loss: 0.4768 - acc: 0.7688 - val_loss: 0.5054 - val_acc: 0.7358\n",
      "Epoch 41/100\n",
      "100/100 [==============================] - 110s 1s/step - loss: 0.4638 - acc: 0.7866 - val_loss: 0.5200 - val_acc: 0.7539\n",
      "Epoch 42/100\n",
      "100/100 [==============================] - 108s 1s/step - loss: 0.4576 - acc: 0.7828 - val_loss: 0.5830 - val_acc: 0.7214\n",
      "Epoch 43/100\n",
      "100/100 [==============================] - 112s 1s/step - loss: 0.4798 - acc: 0.7669 - val_loss: 0.4586 - val_acc: 0.7751\n",
      "Epoch 44/100\n",
      "100/100 [==============================] - 113s 1s/step - loss: 0.4557 - acc: 0.7825 - val_loss: 0.4462 - val_acc: 0.7868\n",
      "Epoch 45/100\n",
      "100/100 [==============================] - 111s 1s/step - loss: 0.4589 - acc: 0.7878 - val_loss: 0.4697 - val_acc: 0.7841\n",
      "Epoch 46/100\n",
      "100/100 [==============================] - 107s 1s/step - loss: 0.4548 - acc: 0.7784 - val_loss: 0.4798 - val_acc: 0.7735\n",
      "Epoch 47/100\n",
      "100/100 [==============================] - 110s 1s/step - loss: 0.4555 - acc: 0.7828 - val_loss: 0.4808 - val_acc: 0.7526\n",
      "Epoch 48/100\n",
      "100/100 [==============================] - 111s 1s/step - loss: 0.4606 - acc: 0.7750 - val_loss: 0.4779 - val_acc: 0.7713\n",
      "Epoch 49/100\n",
      "100/100 [==============================] - 110s 1s/step - loss: 0.4471 - acc: 0.7900 - val_loss: 0.4146 - val_acc: 0.8071\n",
      "Epoch 50/100\n",
      "100/100 [==============================] - 107s 1s/step - loss: 0.4464 - acc: 0.7863 - val_loss: 0.4712 - val_acc: 0.7906\n",
      "Epoch 51/100\n",
      "100/100 [==============================] - 113s 1s/step - loss: 0.4517 - acc: 0.7881 - val_loss: 0.5065 - val_acc: 0.7589\n",
      "Epoch 52/100\n",
      "100/100 [==============================] - 108s 1s/step - loss: 0.4442 - acc: 0.7922 - val_loss: 0.5258 - val_acc: 0.7468\n",
      "Epoch 53/100\n",
      "100/100 [==============================] - 108s 1s/step - loss: 0.4275 - acc: 0.7969 - val_loss: 0.4552 - val_acc: 0.7881\n",
      "Epoch 54/100\n",
      "100/100 [==============================] - 114s 1s/step - loss: 0.4461 - acc: 0.7888 - val_loss: 0.4368 - val_acc: 0.7854\n",
      "Epoch 55/100\n",
      "100/100 [==============================] - 109s 1s/step - loss: 0.4362 - acc: 0.7953 - val_loss: 0.4821 - val_acc: 0.7659\n",
      "Epoch 56/100\n",
      "100/100 [==============================] - 122s 1s/step - loss: 0.4431 - acc: 0.7919 - val_loss: 0.4304 - val_acc: 0.8073\n",
      "Epoch 57/100\n",
      "100/100 [==============================] - 113s 1s/step - loss: 0.4374 - acc: 0.7931 - val_loss: 0.4513 - val_acc: 0.7841\n",
      "Epoch 58/100\n",
      "100/100 [==============================] - 110s 1s/step - loss: 0.4325 - acc: 0.7919 - val_loss: 0.4287 - val_acc: 0.7982\n",
      "Epoch 59/100\n",
      "100/100 [==============================] - 110s 1s/step - loss: 0.4302 - acc: 0.7997 - val_loss: 0.4415 - val_acc: 0.8015\n",
      "Epoch 60/100\n",
      "100/100 [==============================] - 113s 1s/step - loss: 0.4348 - acc: 0.7963 - val_loss: 0.4402 - val_acc: 0.7976\n",
      "Epoch 61/100\n"
     ]
    },
    {
     "name": "stdout",
     "output_type": "stream",
     "text": [
      "100/100 [==============================] - 117s 1s/step - loss: 0.4389 - acc: 0.7925 - val_loss: 0.4175 - val_acc: 0.8106\n",
      "Epoch 62/100\n",
      "100/100 [==============================] - 118s 1s/step - loss: 0.4292 - acc: 0.8009 - val_loss: 0.4794 - val_acc: 0.7595\n",
      "Epoch 63/100\n",
      "100/100 [==============================] - 117s 1s/step - loss: 0.4149 - acc: 0.8112 - val_loss: 0.4504 - val_acc: 0.7919\n",
      "Epoch 64/100\n",
      "100/100 [==============================] - 119s 1s/step - loss: 0.4312 - acc: 0.8006 - val_loss: 0.4137 - val_acc: 0.8151\n",
      "Epoch 65/100\n",
      "100/100 [==============================] - 118s 1s/step - loss: 0.4131 - acc: 0.8200 - val_loss: 0.4264 - val_acc: 0.8027\n",
      "Epoch 66/100\n",
      "100/100 [==============================] - 115s 1s/step - loss: 0.4295 - acc: 0.7988 - val_loss: 0.4513 - val_acc: 0.7854\n",
      "Epoch 67/100\n",
      "100/100 [==============================] - 108s 1s/step - loss: 0.4337 - acc: 0.8025 - val_loss: 0.4216 - val_acc: 0.8001\n",
      "Epoch 68/100\n",
      "100/100 [==============================] - 108s 1s/step - loss: 0.4229 - acc: 0.7969 - val_loss: 0.4947 - val_acc: 0.7629\n",
      "Epoch 69/100\n",
      "100/100 [==============================] - 108s 1s/step - loss: 0.4032 - acc: 0.8134 - val_loss: 0.3985 - val_acc: 0.8223\n",
      "Epoch 70/100\n",
      "100/100 [==============================] - 108s 1s/step - loss: 0.4239 - acc: 0.8028 - val_loss: 0.4608 - val_acc: 0.7784\n",
      "Epoch 71/100\n",
      "100/100 [==============================] - 108s 1s/step - loss: 0.4130 - acc: 0.8075 - val_loss: 0.4145 - val_acc: 0.8096\n",
      "Epoch 72/100\n",
      "100/100 [==============================] - 108s 1s/step - loss: 0.4020 - acc: 0.8156 - val_loss: 0.4253 - val_acc: 0.8099\n",
      "Epoch 73/100\n",
      "100/100 [==============================] - 108s 1s/step - loss: 0.4153 - acc: 0.8072 - val_loss: 0.5538 - val_acc: 0.7552\n",
      "Epoch 74/100\n",
      "100/100 [==============================] - 113s 1s/step - loss: 0.4191 - acc: 0.8084 - val_loss: 0.4334 - val_acc: 0.8084\n",
      "Epoch 75/100\n",
      "100/100 [==============================] - 116s 1s/step - loss: 0.4079 - acc: 0.8116 - val_loss: 0.4061 - val_acc: 0.8196\n",
      "Epoch 76/100\n",
      "100/100 [==============================] - 116s 1s/step - loss: 0.4102 - acc: 0.8097 - val_loss: 0.4635 - val_acc: 0.7735\n",
      "Epoch 77/100\n",
      "100/100 [==============================] - 124s 1s/step - loss: 0.4135 - acc: 0.8056 - val_loss: 0.4882 - val_acc: 0.7700\n",
      "Epoch 78/100\n",
      "100/100 [==============================] - 111s 1s/step - loss: 0.3933 - acc: 0.8172 - val_loss: 0.4585 - val_acc: 0.7976\n",
      "Epoch 79/100\n",
      "100/100 [==============================] - 147s 1s/step - loss: 0.4179 - acc: 0.8031 - val_loss: 0.4134 - val_acc: 0.8067\n",
      "Epoch 80/100\n",
      "100/100 [==============================] - 141s 1s/step - loss: 0.3851 - acc: 0.8269 - val_loss: 0.5949 - val_acc: 0.7442\n",
      "Epoch 81/100\n",
      "100/100 [==============================] - 118s 1s/step - loss: 0.3960 - acc: 0.8137 - val_loss: 0.4920 - val_acc: 0.7602\n",
      "Epoch 82/100\n",
      "100/100 [==============================] - 128s 1s/step - loss: 0.3871 - acc: 0.8284 - val_loss: 0.4075 - val_acc: 0.8151\n",
      "Epoch 83/100\n",
      "100/100 [==============================] - 114s 1s/step - loss: 0.3907 - acc: 0.8263 - val_loss: 0.4636 - val_acc: 0.8039\n",
      "Epoch 84/100\n",
      "100/100 [==============================] - 131s 1s/step - loss: 0.3936 - acc: 0.8272 - val_loss: 0.5088 - val_acc: 0.7758\n",
      "Epoch 85/100\n",
      "100/100 [==============================] - 112s 1s/step - loss: 0.3849 - acc: 0.8150 - val_loss: 0.4241 - val_acc: 0.8230\n",
      "Epoch 86/100\n",
      "100/100 [==============================] - 112s 1s/step - loss: 0.3988 - acc: 0.8178 - val_loss: 0.4238 - val_acc: 0.8260\n",
      "Epoch 87/100\n",
      "100/100 [==============================] - 114s 1s/step - loss: 0.3932 - acc: 0.8231 - val_loss: 0.6552 - val_acc: 0.7329\n",
      "Epoch 88/100\n",
      "100/100 [==============================] - 119s 1s/step - loss: 0.3945 - acc: 0.8206 - val_loss: 0.3945 - val_acc: 0.8299\n",
      "Epoch 89/100\n",
      "100/100 [==============================] - 121s 1s/step - loss: 0.3945 - acc: 0.8219 - val_loss: 0.4923 - val_acc: 0.8080\n",
      "Epoch 90/100\n",
      "100/100 [==============================] - 119s 1s/step - loss: 0.3715 - acc: 0.8341 - val_loss: 0.4480 - val_acc: 0.8071\n",
      "Epoch 91/100\n",
      "100/100 [==============================] - 117s 1s/step - loss: 0.3976 - acc: 0.8206 - val_loss: 0.4677 - val_acc: 0.7938\n",
      "Epoch 92/100\n",
      "100/100 [==============================] - 116s 1s/step - loss: 0.3764 - acc: 0.8309 - val_loss: 0.3953 - val_acc: 0.8255\n",
      "Epoch 93/100\n",
      "100/100 [==============================] - 117s 1s/step - loss: 0.3805 - acc: 0.8278 - val_loss: 0.4291 - val_acc: 0.8293\n",
      "Epoch 94/100\n",
      "100/100 [==============================] - 116s 1s/step - loss: 0.3746 - acc: 0.8222 - val_loss: 0.4122 - val_acc: 0.8211\n",
      "Epoch 95/100\n",
      "100/100 [==============================] - 118s 1s/step - loss: 0.3666 - acc: 0.8353 - val_loss: 0.4338 - val_acc: 0.8177\n",
      "Epoch 96/100\n",
      "100/100 [==============================] - 116s 1s/step - loss: 0.3740 - acc: 0.8338 - val_loss: 0.3992 - val_acc: 0.8357\n",
      "Epoch 97/100\n",
      "100/100 [==============================] - 115s 1s/step - loss: 0.3812 - acc: 0.8187 - val_loss: 0.4112 - val_acc: 0.8217\n",
      "Epoch 98/100\n",
      "100/100 [==============================] - 119s 1s/step - loss: 0.3764 - acc: 0.8241 - val_loss: 0.4153 - val_acc: 0.8215\n",
      "Epoch 99/100\n",
      "100/100 [==============================] - 120s 1s/step - loss: 0.3845 - acc: 0.8309 - val_loss: 0.3915 - val_acc: 0.8439\n",
      "Epoch 100/100\n",
      "100/100 [==============================] - 117s 1s/step - loss: 0.3650 - acc: 0.8366 - val_loss: 0.3677 - val_acc: 0.8447\n"
     ]
    }
   ],
   "source": [
    "train_datagen = ImageDataGenerator(\n",
    "    rescale=1./255,\n",
    "    rotation_range=40,\n",
    "    width_shift_range=0.2,\n",
    "    height_shift_range=0.2,\n",
    "    shear_range=0.2,\n",
    "    zoom_range=0.2,\n",
    "    horizontal_flip=True,)\n",
    "\n",
    "test_datagen = ImageDataGenerator(rescale=1./255)\n",
    "\n",
    "train_generator = train_datagen.flow_from_directory(\n",
    "        train_dir,\n",
    "        target_size=(150, 150),\n",
    "        batch_size=32,\n",
    "        class_mode='binary')\n",
    "\n",
    "validation_generator = test_datagen.flow_from_directory(\n",
    "        validation_dir,\n",
    "        target_size=(150, 150),\n",
    "        batch_size=32,\n",
    "        class_mode='binary')\n",
    "\n",
    "history = model.fit_generator(\n",
    "      train_generator,\n",
    "      steps_per_epoch=100,\n",
    "      epochs=100,\n",
    "      validation_data=validation_generator,\n",
    "      validation_steps=50)\n"
   ]
  },
  {
   "cell_type": "code",
   "execution_count": 14,
   "metadata": {},
   "outputs": [],
   "source": [
    "model.save('cats_and_dogs_small_2.h5')"
   ]
  },
  {
   "cell_type": "markdown",
   "metadata": {},
   "source": [
    "#### Displaying curves of loss and accuracy during training"
   ]
  },
  {
   "cell_type": "code",
   "execution_count": 15,
   "metadata": {},
   "outputs": [
    {
     "data": {
      "image/png": "[encoded data removed]",
      "text/plain": [
       "<Figure size 432x288 with 1 Axes>"
      ]
     },
     "metadata": {
      "needs_background": "light"
     },
     "output_type": "display_data"
    },
    {
     "data": {
      "image/png": "[encoded data removed]",
      "text/plain": [
       "<Figure size 432x288 with 1 Axes>"
      ]
     },
     "metadata": {
      "needs_background": "light"
     },
     "output_type": "display_data"
    }
   ],
   "source": [
    "import matplotlib.pyplot as plt\n",
    "\n",
    "acc = history.history['acc']\n",
    "val_acc = history.history['val_acc']\n",
    "loss = history.history['loss']\n",
    "val_loss = history.history['val_loss']\n",
    "\n",
    "epochs = range(1, len(acc) + 1)\n",
    "\n",
    "plt.plot(epochs, acc, 'bo', label='Training acc')\n",
    "plt.plot(epochs, val_acc, 'b', label='Validation acc')\n",
    "plt.title('Training and validation accuracy')\n",
    "plt.legend()\n",
    "\n",
    "plt.figure()\n",
    "\n",
    "plt.plot(epochs, loss, 'bo', label='Training loss')\n",
    "plt.plot(epochs, val_loss, 'b', label='Validation loss')\n",
    "plt.title('Training and validation loss')\n",
    "plt.legend()\n",
    "\n",
    "plt.show()"
   ]
  },
  {
   "cell_type": "markdown",
   "metadata": {},
   "source": [
    "Thanks to data augmentation and dropout, we’re no longer overfitting: the training curves are closely tracking the validation curves. We now reach an accuracy of 82%, a 15% relative improvement over the non-regularized model.\n",
    "\n",
    "By using regularization techniques even further, and by tuning the network’s parameters we may be able to get an even better accuracy, likely up to 86% or 87%. But it would prove difficult to go any higher just by training our own convnet from scratch, because we have so little data to work with. As a next step to improve our accuracy on this problem, we’ll have to use a pretrained model."
   ]
  },
  {
   "cell_type": "markdown",
   "metadata": {},
   "source": [
    "### Classifying cats 🐈 vs dogs 🐕 pictures using a pretrained convnet\n",
    "\n",
    "A pretrained network is a saved network that was previously trained on a large dataset, typically on a large-scale image-classification task.\n",
    "\n",
    "We’ll use the VGG16 architecture, developed by Karen Simonyan and Andrew Zisserman in 2014; it’s a simple and widely used convnet architecture for ImageNet. Although it’s an older model, far from the current state of the art and somewhat heavier than many other recent models."
   ]
  },
  {
   "cell_type": "code",
   "execution_count": 16,
   "metadata": {},
   "outputs": [
    {
     "name": "stdout",
     "output_type": "stream",
     "text": [
      "Downloading data from https://github.com/fchollet/deep-learning-models/releases/download/v0.1/vgg16_weights_tf_dim_ordering_tf_kernels_notop.h5\n",
      "58892288/58889256 [==============================] - 12s 0us/step\n"
     ]
    }
   ],
   "source": [
    "from keras.applications import VGG16\n",
    "\n",
    "conv_base = VGG16(weights='imagenet',\n",
    "                  include_top=False,\n",
    "                  input_shape=(150, 150, 3))"
   ]
  },
  {
   "cell_type": "markdown",
   "metadata": {},
   "source": [
    "* **weights** specifies the weight checkpoint from which to initialize the model.\n",
    "* **include_top** refers to including (or not) the densely connected classifier on top of the network. By default, this densely connected classifier corresponds to the 1,000 classes from ImageNet. Because we intend to use our own densely connected classifier (with only two classes: cat and dog), we don’t need to include it.\n",
    "* **input_shape** is the shape of the image tensors that we’ll feed to the network. This argument is purely optional: if we don’t pass it, the network will be able to process inputs of any size."
   ]
  },
  {
   "cell_type": "code",
   "execution_count": 17,
   "metadata": {},
   "outputs": [
    {
     "name": "stdout",
     "output_type": "stream",
     "text": [
      "_________________________________________________________________\n",
      "Layer (type)                 Output Shape              Param #   \n",
      "=================================================================\n",
      "input_1 (InputLayer)         (None, 150, 150, 3)       0         \n",
      "_________________________________________________________________\n",
      "block1_conv1 (Conv2D)        (None, 150, 150, 64)      1792      \n",
      "_________________________________________________________________\n",
      "block1_conv2 (Conv2D)        (None, 150, 150, 64)      36928     \n",
      "_________________________________________________________________\n",
      "block1_pool (MaxPooling2D)   (None, 75, 75, 64)        0         \n",
      "_________________________________________________________________\n",
      "block2_conv1 (Conv2D)        (None, 75, 75, 128)       73856     \n",
      "_________________________________________________________________\n",
      "block2_conv2 (Conv2D)        (None, 75, 75, 128)       147584    \n",
      "_________________________________________________________________\n",
      "block2_pool (MaxPooling2D)   (None, 37, 37, 128)       0         \n",
      "_________________________________________________________________\n",
      "block3_conv1 (Conv2D)        (None, 37, 37, 256)       295168    \n",
      "_________________________________________________________________\n",
      "block3_conv2 (Conv2D)        (None, 37, 37, 256)       590080    \n",
      "_________________________________________________________________\n",
      "block3_conv3 (Conv2D)        (None, 37, 37, 256)       590080    \n",
      "_________________________________________________________________\n",
      "block3_pool (MaxPooling2D)   (None, 18, 18, 256)       0         \n",
      "_________________________________________________________________\n",
      "block4_conv1 (Conv2D)        (None, 18, 18, 512)       1180160   \n",
      "_________________________________________________________________\n",
      "block4_conv2 (Conv2D)        (None, 18, 18, 512)       2359808   \n",
      "_________________________________________________________________\n",
      "block4_conv3 (Conv2D)        (None, 18, 18, 512)       2359808   \n",
      "_________________________________________________________________\n",
      "block4_pool (MaxPooling2D)   (None, 9, 9, 512)         0         \n",
      "_________________________________________________________________\n",
      "block5_conv1 (Conv2D)        (None, 9, 9, 512)         2359808   \n",
      "_________________________________________________________________\n",
      "block5_conv2 (Conv2D)        (None, 9, 9, 512)         2359808   \n",
      "_________________________________________________________________\n",
      "block5_conv3 (Conv2D)        (None, 9, 9, 512)         2359808   \n",
      "_________________________________________________________________\n",
      "block5_pool (MaxPooling2D)   (None, 4, 4, 512)         0         \n",
      "=================================================================\n",
      "Total params: 14,714,688\n",
      "Trainable params: 14,714,688\n",
      "Non-trainable params: 0\n",
      "_________________________________________________________________\n"
     ]
    }
   ],
   "source": [
    "conv_base.summary()"
   ]
  },
  {
   "cell_type": "markdown",
   "metadata": {},
   "source": [
    "We will run the convolutional base over our dataset, record its output to a Numpy array on disk, and then use this data as input to a standalone, densely connected classifier. This solution is fast and cheap to run, because it only requires running the convolutional base once for every input image, and the convolutional base is by far the most expensive part of the pipeline. But for the same reason, this technique won’t allow you to use data augmentation."
   ]
  },
  {
   "cell_type": "markdown",
   "metadata": {},
   "source": [
    "#### Feature extraction\n",
    "\n",
    "Feature extraction consists of taking the convolutional base of a previously trained network, running the new data through it, and training a new classifier on top of the output."
   ]
  },
  {
   "cell_type": "code",
   "execution_count": 18,
   "metadata": {},
   "outputs": [
    {
     "name": "stdout",
     "output_type": "stream",
     "text": [
      "Found 2000 images belonging to 2 classes.\n",
      "Found 1000 images belonging to 2 classes.\n",
      "Found 1000 images belonging to 2 classes.\n"
     ]
    }
   ],
   "source": [
    "import os\n",
    "import numpy as np\n",
    "from keras.preprocessing.image import ImageDataGenerator\n",
    "\n",
    "base_dir = '/src/cats_and_dogs'\n",
    "\n",
    "train_dir = os.path.join(base_dir, 'train')\n",
    "validation_dir = os.path.join(base_dir, 'validation')\n",
    "test_dir = os.path.join(base_dir, 'test')\n",
    "\n",
    "datagen = ImageDataGenerator(rescale=1./255)\n",
    "batch_size = 20\n",
    "\n",
    "def extract_features(directory, sample_count):\n",
    "    features = np.zeros(shape=(sample_count, 4, 4, 512))\n",
    "    labels = np.zeros(shape=(sample_count))\n",
    "    generator = datagen.flow_from_directory(\n",
    "        directory,\n",
    "        target_size=(150, 150),\n",
    "        batch_size=batch_size,\n",
    "        class_mode='binary')\n",
    "    i = 0\n",
    "    for inputs_batch, labels_batch in generator:\n",
    "        features_batch = conv_base.predict(inputs_batch)\n",
    "        features[i * batch_size : (i + 1) * batch_size] = features_batch\n",
    "        labels[i * batch_size : (i + 1) * batch_size] = labels_batch\n",
    "        i += 1\n",
    "        if i * batch_size >= sample_count:\n",
    "            break\n",
    "    return features, labels\n",
    "\n",
    "train_features, train_labels = extract_features(train_dir, 2000)\n",
    "validation_features, validation_labels = extract_features(validation_dir, 1000)\n",
    "test_features, test_labels = extract_features(test_dir, 1000)"
   ]
  },
  {
   "cell_type": "markdown",
   "metadata": {},
   "source": [
    "The extracted features are currently of shape (samples, 4, 4, 512). You’ll feed them to a densely connected classifier, so first you must flatten them to (samples, 8192):"
   ]
  },
  {
   "cell_type": "code",
   "execution_count": 19,
   "metadata": {},
   "outputs": [],
   "source": [
    "train_features = np.reshape(train_features, (2000, 4 * 4 * 512))\n",
    "validation_features = np.reshape(validation_features, (1000, 4 * 4 * 512))\n",
    "test_features = np.reshape(test_features, (1000, 4 * 4 * 512))"
   ]
  },
  {
   "cell_type": "markdown",
   "metadata": {},
   "source": [
    "#### Defining and training the densely connected classifier"
   ]
  },
  {
   "cell_type": "code",
   "execution_count": 20,
   "metadata": {},
   "outputs": [
    {
     "name": "stdout",
     "output_type": "stream",
     "text": [
      "Train on 2000 samples, validate on 1000 samples\n",
      "Epoch 1/30\n",
      "2000/2000 [==============================] - 3s 1ms/step - loss: 0.5926 - acc: 0.6885 - val_loss: 0.4300 - val_acc: 0.8500\n",
      "Epoch 2/30\n",
      "2000/2000 [==============================] - 2s 1ms/step - loss: 0.4269 - acc: 0.8050 - val_loss: 0.3516 - val_acc: 0.8810\n",
      "Epoch 3/30\n",
      "2000/2000 [==============================] - 3s 1ms/step - loss: 0.3540 - acc: 0.8625 - val_loss: 0.3149 - val_acc: 0.8930\n",
      "Epoch 4/30\n",
      "2000/2000 [==============================] - 2s 1ms/step - loss: 0.3129 - acc: 0.8740 - val_loss: 0.3064 - val_acc: 0.8810\n",
      "Epoch 5/30\n",
      "2000/2000 [==============================] - 3s 1ms/step - loss: 0.2939 - acc: 0.8795 - val_loss: 0.2792 - val_acc: 0.8980\n",
      "Epoch 6/30\n",
      "2000/2000 [==============================] - 2s 1ms/step - loss: 0.2539 - acc: 0.9035 - val_loss: 0.2724 - val_acc: 0.8890\n",
      "Epoch 7/30\n",
      "2000/2000 [==============================] - 2s 1ms/step - loss: 0.2445 - acc: 0.9060 - val_loss: 0.2770 - val_acc: 0.8870\n",
      "Epoch 8/30\n",
      "2000/2000 [==============================] - 2s 1ms/step - loss: 0.2302 - acc: 0.9175 - val_loss: 0.2588 - val_acc: 0.8980\n",
      "Epoch 9/30\n",
      "2000/2000 [==============================] - 3s 1ms/step - loss: 0.2159 - acc: 0.9260 - val_loss: 0.2525 - val_acc: 0.8990\n",
      "Epoch 10/30\n",
      "2000/2000 [==============================] - 2s 1ms/step - loss: 0.2059 - acc: 0.9215 - val_loss: 0.2477 - val_acc: 0.9050\n",
      "Epoch 11/30\n",
      "2000/2000 [==============================] - 2s 1ms/step - loss: 0.1964 - acc: 0.9250 - val_loss: 0.2438 - val_acc: 0.9000\n",
      "Epoch 12/30\n",
      "2000/2000 [==============================] - 2s 1ms/step - loss: 0.1875 - acc: 0.9365 - val_loss: 0.2414 - val_acc: 0.8990\n",
      "Epoch 13/30\n",
      "2000/2000 [==============================] - 2s 1ms/step - loss: 0.1790 - acc: 0.9310 - val_loss: 0.2397 - val_acc: 0.9030\n",
      "Epoch 14/30\n",
      "2000/2000 [==============================] - 2s 1ms/step - loss: 0.1733 - acc: 0.9345 - val_loss: 0.2396 - val_acc: 0.8990\n",
      "Epoch 15/30\n",
      "2000/2000 [==============================] - 2s 974us/step - loss: 0.1617 - acc: 0.9430 - val_loss: 0.2379 - val_acc: 0.8990\n",
      "Epoch 16/30\n",
      "2000/2000 [==============================] - 2s 1ms/step - loss: 0.1612 - acc: 0.9405 - val_loss: 0.2350 - val_acc: 0.9020\n",
      "Epoch 17/30\n",
      "2000/2000 [==============================] - 2s 1ms/step - loss: 0.1450 - acc: 0.9510 - val_loss: 0.2322 - val_acc: 0.9090\n",
      "Epoch 18/30\n",
      "2000/2000 [==============================] - 2s 1ms/step - loss: 0.1411 - acc: 0.9510 - val_loss: 0.2354 - val_acc: 0.9010\n",
      "Epoch 19/30\n",
      "2000/2000 [==============================] - 2s 982us/step - loss: 0.1456 - acc: 0.9475 - val_loss: 0.2384 - val_acc: 0.8970\n",
      "Epoch 20/30\n",
      "2000/2000 [==============================] - 2s 1ms/step - loss: 0.1371 - acc: 0.9550 - val_loss: 0.2315 - val_acc: 0.9070\n",
      "Epoch 21/30\n",
      "2000/2000 [==============================] - 2s 1ms/step - loss: 0.1251 - acc: 0.9545 - val_loss: 0.2402 - val_acc: 0.8980\n",
      "Epoch 22/30\n",
      "2000/2000 [==============================] - 2s 976us/step - loss: 0.1261 - acc: 0.9575 - val_loss: 0.2331 - val_acc: 0.9080\n",
      "Epoch 23/30\n",
      "2000/2000 [==============================] - 2s 995us/step - loss: 0.1183 - acc: 0.9600 - val_loss: 0.2365 - val_acc: 0.9000\n",
      "Epoch 24/30\n",
      "2000/2000 [==============================] - 2s 1ms/step - loss: 0.1117 - acc: 0.9605 - val_loss: 0.2337 - val_acc: 0.9060\n",
      "Epoch 25/30\n",
      "2000/2000 [==============================] - 2s 989us/step - loss: 0.1107 - acc: 0.9625 - val_loss: 0.2335 - val_acc: 0.9040\n",
      "Epoch 26/30\n",
      "2000/2000 [==============================] - 2s 999us/step - loss: 0.1048 - acc: 0.9675 - val_loss: 0.2357 - val_acc: 0.9020\n",
      "Epoch 27/30\n",
      "2000/2000 [==============================] - 2s 975us/step - loss: 0.1040 - acc: 0.9625 - val_loss: 0.2338 - val_acc: 0.9040\n",
      "Epoch 28/30\n",
      "2000/2000 [==============================] - 2s 966us/step - loss: 0.0945 - acc: 0.9715 - val_loss: 0.2345 - val_acc: 0.9050\n",
      "Epoch 29/30\n",
      "2000/2000 [==============================] - 2s 1ms/step - loss: 0.0924 - acc: 0.9690 - val_loss: 0.2357 - val_acc: 0.9060\n",
      "Epoch 30/30\n",
      "2000/2000 [==============================] - 2s 985us/step - loss: 0.0880 - acc: 0.9760 - val_loss: 0.2362 - val_acc: 0.9060\n"
     ]
    }
   ],
   "source": [
    "from keras import models\n",
    "from keras import layers\n",
    "from keras import optimizers\n",
    "\n",
    "model = models.Sequential()\n",
    "model.add(layers.Dense(256, activation='relu', input_dim=4 * 4 * 512))\n",
    "model.add(layers.Dropout(0.5))\n",
    "model.add(layers.Dense(1, activation='sigmoid'))\n",
    "\n",
    "model.compile(optimizer=optimizers.RMSprop(lr=2e-5),\n",
    "              loss='binary_crossentropy',\n",
    "              metrics=['acc'])\n",
    "\n",
    "history = model.fit(train_features, train_labels,\n",
    "                    epochs=30,\n",
    "                    batch_size=20,\n",
    "                    validation_data=(validation_features, validation_labels))"
   ]
  },
  {
   "cell_type": "markdown",
   "metadata": {},
   "source": [
    "#### Plotting the results"
   ]
  },
  {
   "cell_type": "code",
   "execution_count": 22,
   "metadata": {},
   "outputs": [],
   "source": [
    "model.save('cats_and_dogs_small_3.h5')"
   ]
  },
  {
   "cell_type": "code",
   "execution_count": 23,
   "metadata": {},
   "outputs": [
    {
     "data": {
      "image/png": "[encoded data removed]",
      "text/plain": [
       "<Figure size 432x288 with 1 Axes>"
      ]
     },
     "metadata": {
      "needs_background": "light"
     },
     "output_type": "display_data"
    },
    {
     "data": {
      "image/png": "[encoded data removed]",
      "text/plain": [
       "<Figure size 432x288 with 1 Axes>"
      ]
     },
     "metadata": {
      "needs_background": "light"
     },
     "output_type": "display_data"
    }
   ],
   "source": [
    "import matplotlib.pyplot as plt\n",
    "\n",
    "acc = history.history['acc']\n",
    "val_acc = history.history['val_acc']\n",
    "loss = history.history['loss']\n",
    "val_loss = history.history['val_loss']\n",
    "\n",
    "epochs = range(1, len(acc) + 1)\n",
    "\n",
    "plt.plot(epochs, acc, 'bo', label='Training acc')\n",
    "plt.plot(epochs, val_acc, 'b', label='Validation acc')\n",
    "plt.title('Training and validation accuracy')\n",
    "plt.legend()\n",
    "\n",
    "plt.figure()\n",
    "\n",
    "plt.plot(epochs, loss, 'bo', label='Training loss')\n",
    "plt.plot(epochs, val_loss, 'b', label='Validation loss')\n",
    "plt.title('Training and validation loss')\n",
    "plt.legend()\n",
    "\n",
    "plt.show()"
   ]
  },
  {
   "cell_type": "markdown",
   "metadata": {},
   "source": [
    "We reach a validation accuracy of about 90%—much better than we achieved with the small model trained from scratch. But the plots also indicate that we’re overfitting almost from the start—despite using dropout with a fairly large rate. That’s because this technique doesn’t use data augmentation, which is essential for preventing overfitting with small image datasets."
   ]
  },
  {
   "cell_type": "code",
   "execution_count": null,
   "metadata": {},
   "outputs": [],
   "source": []
  }
 ],
 "metadata": {
  "kernelspec": {
   "display_name": "Python 3",
   "language": "python",
   "name": "python3"
  },
  "language_info": {
   "codemirror_mode": {
    "name": "ipython",
    "version": 3
   },
   "file_extension": ".py",
   "mimetype": "text/x-python",
   "name": "python",
   "nbconvert_exporter": "python",
   "pygments_lexer": "ipython3",
   "version": "3.6.6"
  }
 },
 "nbformat": 4,
 "nbformat_minor": 2
}
